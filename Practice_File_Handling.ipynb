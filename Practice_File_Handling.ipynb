{
  "nbformat": 4,
  "nbformat_minor": 0,
  "metadata": {
    "colab": {
      "provenance": [],
      "authorship_tag": "ABX9TyMgfKek1Nb04ZQBTX8GYR3A",
      "include_colab_link": true
    },
    "kernelspec": {
      "name": "python3",
      "display_name": "Python 3"
    },
    "language_info": {
      "name": "python"
    }
  },
  "cells": [
    {
      "cell_type": "markdown",
      "metadata": {
        "id": "view-in-github",
        "colab_type": "text"
      },
      "source": [
        "<a href=\"https://colab.research.google.com/github/MeharinChoudhury23040/IT23040EdgeB6/blob/main/Practice_File_Handling.ipynb\" target=\"_parent\"><img src=\"https://colab.research.google.com/assets/colab-badge.svg\" alt=\"Open In Colab\"/></a>"
      ]
    },
    {
      "cell_type": "code",
      "execution_count": 7,
      "metadata": {
        "colab": {
          "base_uri": "https://localhost:8080/"
        },
        "id": "GDZ8DEns2VHI",
        "outputId": "0c365dbc-102d-4cf2-e813-15580e18d259"
      },
      "outputs": [
        {
          "output_type": "stream",
          "name": "stdout",
          "text": [
            "Reading file:\n",
            "Hello, Meharin!\n",
            "This is a file handling practice.\n",
            "Let's learn to read, write, update, delete, and search.\n",
            "\n",
            "Found 'learn' in line: Let's learn to read, write, update, delete, and search.\n",
            "sample.txt has been deleted.\n"
          ]
        }
      ],
      "source": [
        "import os\n",
        "\n",
        "filename = \"sample.txt\"\n",
        "\n",
        "# 1. Write to a file\n",
        "with open(filename, 'w') as f:\n",
        "    f.write(\"Hello, Meharin!\\n\")\n",
        "    f.write(\"This is a file handling practice.\\n\")\n",
        "    f.write(\"Let's learn to read, write, update, delete, and search.\\n\")\n",
        "\n",
        "# 2. Read the file\n",
        "print(\"Reading file:\")\n",
        "with open(filename, 'r') as f:\n",
        "    print(f.read())\n",
        "\n",
        "# 3. Update (append) the file\n",
        "with open(filename, 'a') as f:\n",
        "    f.write(\"This line was added later.\\n\")\n",
        "\n",
        "# 4. Search for a word\n",
        "search_term = \"learn\"\n",
        "found = False\n",
        "with open(filename, 'r') as f:\n",
        "    for line in f:\n",
        "        if search_term in line:\n",
        "            print(f\"Found '{search_term}' in line: {line.strip()}\")\n",
        "            found = True\n",
        "if not found:\n",
        "    print(f\"'{search_term}' not found in the file.\")\n",
        "\n",
        "# 5. Delete the file\n",
        "if os.path.exists(filename):\n",
        "    os.remove(filename)\n",
        "    print(f\"{filename} has been deleted.\")\n",
        "else:\n",
        "    print(f\"{filename} does not exist.\")"
      ]
    }
  ]
}