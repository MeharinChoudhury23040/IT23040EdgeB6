{
  "nbformat": 4,
  "nbformat_minor": 0,
  "metadata": {
    "colab": {
      "provenance": [],
      "authorship_tag": "ABX9TyPfnJbT+i+5JXHfVFQGNknx",
      "include_colab_link": true
    },
    "kernelspec": {
      "name": "python3",
      "display_name": "Python 3"
    },
    "language_info": {
      "name": "python"
    }
  },
  "cells": [
    {
      "cell_type": "markdown",
      "metadata": {
        "id": "view-in-github",
        "colab_type": "text"
      },
      "source": [
        "<a href=\"https://colab.research.google.com/github/MeharinChoudhury23040/IT23040EdgeB6/blob/main/Meharin.ipynb\" target=\"_parent\"><img src=\"https://colab.research.google.com/assets/colab-badge.svg\" alt=\"Open In Colab\"/></a>"
      ]
    },
    {
      "cell_type": "code",
      "execution_count": 10,
      "metadata": {
        "colab": {
          "base_uri": "https://localhost:8080/",
          "height": 72
        },
        "id": "c1uUNHRaXoVg",
        "outputId": "9af1f0c9-73b3-4ef1-c738-eb60aa6cca02"
      },
      "outputs": [
        {
          "output_type": "stream",
          "name": "stdout",
          "text": [
            "orange,apple,banana,cherry,apple,kiwi,mango,apple,\n",
            "\n"
          ]
        },
        {
          "output_type": "execute_result",
          "data": {
            "text/plain": [
              "'grape'"
            ],
            "application/vnd.google.colaboratory.intrinsic+json": {
              "type": "string"
            }
          },
          "metadata": {},
          "execution_count": 10
        }
      ],
      "source": [
        "fruits=['orange','apple','banana','cherry','apple','kiwi','mango','apple']\n",
        "for i in fruits:\n",
        "  print(i,end=',')\n",
        "print(\"\\n\")\n",
        "fruits.count('apple')\n",
        "\n",
        "fruits.append('grape')\n",
        "fruits.pop(2)\n",
        "\n",
        "fruits.insert(2,'pear')\n",
        "\n",
        "fruits\n",
        "\n",
        "fruits.remove('pear')\n",
        "\n",
        "fruits\n",
        "\n",
        "\n",
        "from collections import deque\n",
        "queue=deque(fruits)\n",
        "\n",
        "queue.pop()\n",
        "\n"
      ]
    },
    {
      "cell_type": "code",
      "source": [
        "squares = []\n",
        "for x in range(10):\n",
        "  squares.append(x**2)\n",
        "  print(i,end=',')\n",
        "\n"
      ],
      "metadata": {
        "colab": {
          "base_uri": "https://localhost:8080/"
        },
        "id": "waSQ-PiicKZh",
        "outputId": "0f924404-ab9f-4bd2-c037-71fbeb2e8023"
      },
      "execution_count": 16,
      "outputs": [
        {
          "output_type": "stream",
          "name": "stdout",
          "text": [
            "apple,apple,apple,apple,apple,apple,apple,apple,apple,apple,"
          ]
        }
      ]
    }
  ]
}