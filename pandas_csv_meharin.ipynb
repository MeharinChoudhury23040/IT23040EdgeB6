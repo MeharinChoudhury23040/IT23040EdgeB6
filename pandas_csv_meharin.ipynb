{
  "nbformat": 4,
  "nbformat_minor": 0,
  "metadata": {
    "colab": {
      "provenance": [],
      "authorship_tag": "ABX9TyNHltHuK2Zzfg0uBufnv81f",
      "include_colab_link": true
    },
    "kernelspec": {
      "name": "python3",
      "display_name": "Python 3"
    },
    "language_info": {
      "name": "python"
    }
  },
  "cells": [
    {
      "cell_type": "markdown",
      "metadata": {
        "id": "view-in-github",
        "colab_type": "text"
      },
      "source": [
        "<a href=\"https://colab.research.google.com/github/MeharinChoudhury23040/IT23040EdgeB6/blob/main/pandas_csv_meharin.ipynb\" target=\"_parent\"><img src=\"https://colab.research.google.com/assets/colab-badge.svg\" alt=\"Open In Colab\"/></a>"
      ]
    },
    {
      "cell_type": "code",
      "execution_count": 8,
      "metadata": {
        "id": "AE0FxrwtTuuh",
        "colab": {
          "base_uri": "https://localhost:8080/"
        },
        "outputId": "fd844c4e-8679-4284-8cb5-fb064a4c87eb"
      },
      "outputs": [
        {
          "output_type": "stream",
          "name": "stdout",
          "text": [
            "--2025-06-18 19:02:43--  https://raw.githubusercontent.com/MeharinChoudhury23040/IT23040EdgeB6/refs/heads/main/Meharin_Math.py\n",
            "Resolving raw.githubusercontent.com (raw.githubusercontent.com)... 185.199.109.133, 185.199.111.133, 185.199.110.133, ...\n",
            "Connecting to raw.githubusercontent.com (raw.githubusercontent.com)|185.199.109.133|:443... connected.\n",
            "HTTP request sent, awaiting response... 200 OK\n",
            "Length: 248 [text/plain]\n",
            "Saving to: ‘Meharin_Math.py’\n",
            "\n",
            "\rMeharin_Math.py       0%[                    ]       0  --.-KB/s               \rMeharin_Math.py     100%[===================>]     248  --.-KB/s    in 0s      \n",
            "\n",
            "2025-06-18 19:02:44 (12.8 MB/s) - ‘Meharin_Math.py’ saved [248/248]\n",
            "\n"
          ]
        }
      ],
      "source": [
        "import pandas as pd\n",
        "import sys\n",
        "\n",
        "!wget https://raw.githubusercontent.com/MeharinChoudhury23040/IT23040EdgeB6/refs/heads/main/Meharin_Math.py\n",
        "\n",
        "sys.path.append('/content')\n",
        "df = pd.read_csv(\"number.csv\")\n",
        "\n",
        "mylist=[]\n",
        "\n",
        "for i in df:\n",
        "  mylist.append(int(i))\n",
        "\n",
        "out_df=pd.DataFrame(mylist,columns=[\"PI Val\"])\n",
        "out_df.to_csv('output.csv',index=False)\n"
      ]
    }
  ]
}