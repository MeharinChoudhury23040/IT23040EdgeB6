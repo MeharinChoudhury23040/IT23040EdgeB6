{
  "nbformat": 4,
  "nbformat_minor": 0,
  "metadata": {
    "colab": {
      "provenance": [],
      "authorship_tag": "ABX9TyPxESwtDFkNj9aD37RvvCX1",
      "include_colab_link": true
    },
    "kernelspec": {
      "name": "python3",
      "display_name": "Python 3"
    },
    "language_info": {
      "name": "python"
    }
  },
  "cells": [
    {
      "cell_type": "markdown",
      "metadata": {
        "id": "view-in-github",
        "colab_type": "text"
      },
      "source": [
        "<a href=\"https://colab.research.google.com/github/MeharinChoudhury23040/IT23040EdgeB6/blob/main/Mclaurin_Series.ipynb\" target=\"_parent\"><img src=\"https://colab.research.google.com/assets/colab-badge.svg\" alt=\"Open In Colab\"/></a>"
      ]
    },
    {
      "cell_type": "code",
      "execution_count": 2,
      "metadata": {
        "colab": {
          "base_uri": "https://localhost:8080/"
        },
        "id": "YNmXmz72ykj3",
        "outputId": "f4fd1ec5-b149-49aa-9cbc-05dda32957ba"
      },
      "outputs": [
        {
          "output_type": "stream",
          "name": "stdout",
          "text": [
            "Maclaurin series table written to output.txt!\n"
          ]
        }
      ],
      "source": [
        "from math import e, factorial\n",
        "import numpy as np\n",
        "\n",
        "# Vectorized factorial\n",
        "fac = np.vectorize(factorial)\n",
        "\n",
        "def e_x(x, terms):\n",
        "    \"\"\"Approximates e^x using a given number of terms of the Maclaurin series\"\"\"\n",
        "    n = np.arange(terms)\n",
        "    return np.sum((x ** n) / fac(n))\n",
        "\n",
        "# Read x value from input.txt\n",
        "with open('input.txt', 'r') as file:\n",
        "    x = float(file.readline().strip())\n",
        "\n",
        "# Prepare output lines\n",
        "output = []\n",
        "output.append(f\"Actual value of e^{x} = {e ** x:.6f}\\n\")\n",
        "output.append(\"N (terms)\\tMaclaurin\\tError\\n\")\n",
        "\n",
        "for n in range(1, 20):\n",
        "    maclaurin = e_x(x, terms=n)\n",
        "    error = e ** x - maclaurin\n",
        "    output.append(f\"{n}\\t\\t{maclaurin:.6f}\\t{error:.6f}\\n\")\n",
        "\n",
        "# Write the result to output.txt\n",
        "with open('output.txt', 'w') as file:\n",
        "    file.writelines(output)\n",
        "\n",
        "print(\"Maclaurin series table written to output.txt!\")"
      ]
    }
  ]
}